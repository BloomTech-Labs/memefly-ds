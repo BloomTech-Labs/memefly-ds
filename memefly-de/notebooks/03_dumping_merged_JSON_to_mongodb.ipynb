{
 "cells": [
  {
   "cell_type": "code",
   "execution_count": 1,
   "metadata": {},
   "outputs": [],
   "source": [
    "import os\n",
    "import sys\n",
    "sys.path.append(os.path.abspath('..'))\n",
    "from etl_scripts import utils\n",
    "from etl_scripts import memeflymongo "
   ]
  },
  {
   "cell_type": "markdown",
   "metadata": {},
   "source": [
    "### Dump `JSON` data to `MongoDB`"
   ]
  },
  {
   "cell_type": "code",
   "execution_count": 2,
   "metadata": {},
   "outputs": [
    {
     "name": "stdout",
     "output_type": "stream",
     "text": [
      "-------- MongoDB Atlas --------\n",
      "Version: 4.0.13\n",
      "Databases: \n",
      "['admin', 'local']\n",
      "Collections in database MemeFly:\n",
      "[]\n",
      "-------- MongoDB Data Dump Result --------\n",
      "file : ../data/combined_data.json\n",
      "Total records inserted: 108\n"
     ]
    },
    {
     "data": {
      "text/plain": [
       "<pymongo.results.InsertManyResult at 0x7fe05245f408>"
      ]
     },
     "execution_count": 2,
     "metadata": {},
     "output_type": "execute_result"
    }
   ],
   "source": [
    "BASE_DIR = '../data'\n",
    "JSON_FILE_NAME = 'combined_data.json'\n",
    "DB_NAME = 'MemeFly'\n",
    "COLLECTION_NAME = 'base_memes'\n",
    "easy_mongo = memeflymongo.MemeflyMongo(DB_NAME, COLLECTION_NAME, verbose=True)\n",
    "easy_mongo.dump_json_data_to_collection(os.path.join(BASE_DIR, JSON_FILE_NAME), verbose=True)"
   ]
  },
  {
   "cell_type": "code",
   "execution_count": 3,
   "metadata": {},
   "outputs": [
    {
     "name": "stdout",
     "output_type": "stream",
     "text": [
      "Index name: meme_id_1\n"
     ]
    }
   ],
   "source": [
    "easy_mongo.create_index(\"meme_id\", verbose=True)"
   ]
  },
  {
   "cell_type": "code",
   "execution_count": null,
   "metadata": {},
   "outputs": [],
   "source": []
  }
 ],
 "metadata": {
  "kernelspec": {
   "display_name": "Python (Memefly ETL)",
   "language": "python",
   "name": "memefly-etl"
  },
  "language_info": {
   "codemirror_mode": {
    "name": "ipython",
    "version": 3
   },
   "file_extension": ".py",
   "mimetype": "text/x-python",
   "name": "python",
   "nbconvert_exporter": "python",
   "pygments_lexer": "ipython3",
   "version": "3.7.3"
  }
 },
 "nbformat": 4,
 "nbformat_minor": 2
}
